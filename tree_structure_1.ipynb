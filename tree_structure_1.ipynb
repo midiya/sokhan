{
 "cells": [
  {
   "cell_type": "code",
   "execution_count": 1,
   "id": "10c0d86c-9a24-41f7-bf5e-4ac37996d26c",
   "metadata": {
    "pycharm": {
     "name": "#%%\n"
    }
   },
   "outputs": [],
   "source": [
    "# !pip install anytree\n",
    "# !pip install graphviz\n"
   ]
  },
  {
   "cell_type": "code",
   "execution_count": 1,
   "id": "f02b91c6-f7bd-405f-a7ce-bf0e9009e7f3",
   "metadata": {
    "pycharm": {
     "name": "#%%\n"
    }
   },
   "outputs": [],
   "source": [
    "from __future__ import annotations\n",
    "import pandas as pd\n",
    "from pathlib import Path\n",
    "from dataTree import make_tree, calculate_customer_features, get_response, save_data_tree\n",
    "\n",
    "BASE_DIR = Path('.')"
   ]
  },
  {
   "cell_type": "markdown",
   "source": [
    "# make the label tree and get the relevant response"
   ],
   "metadata": {
    "collapsed": false,
    "pycharm": {
     "name": "#%% md\n"
    }
   }
  },
  {
   "cell_type": "code",
   "execution_count": 2,
   "outputs": [
    {
     "name": "stdout",
     "output_type": "stream",
     "text": [
      "{'type': 'response', 'id': 18}\n"
     ]
    }
   ],
   "source": [
    "# get id of detected label\n",
    "label_id = pd.read_excel(BASE_DIR.joinpath('label_id.xlsx'))\n",
    "label_id_cols = label_id.columns.values\n",
    "detected_label_name = 'راهنمایی چگونگی تقاضای وجه'\n",
    "detected_label_id = label_id.iloc[label_id.index[label_id[label_id_cols[0]] == detected_label_name].tolist()[0]][label_id_cols[1]]\n",
    "\n",
    "# read customer_data\n",
    "data_json = pd.read_json('backoffice.json',typ='series')\n",
    "customer_data = dict(data_json)\n",
    "\n",
    "# customer_data_info_types = customer_data.keys()\n",
    "# print(customer_data_info_types)\n",
    "tree_nodes = make_tree()\n",
    "customer_features = calculate_customer_features(customer_data)\n",
    "response = get_response(tree_nodes, customer_features)\n",
    "print(response)"
   ],
   "metadata": {
    "collapsed": false,
    "pycharm": {
     "name": "#%%\n"
    }
   }
  },
  {
   "cell_type": "markdown",
   "source": [
    "# save the tree as .dot and .png  files"
   ],
   "metadata": {
    "collapsed": false,
    "pycharm": {
     "name": "#%% md\n"
    }
   }
  },
  {
   "cell_type": "code",
   "execution_count": 4,
   "outputs": [],
   "source": [
    "save_data_tree(tree_nodes, 'tree_20')"
   ],
   "metadata": {
    "collapsed": false,
    "pycharm": {
     "name": "#%%\n"
    }
   }
  }
 ],
 "metadata": {
  "kernelspec": {
   "display_name": "virtualENV",
   "language": "python",
   "name": "virtualenv"
  },
  "language_info": {
   "codemirror_mode": {
    "name": "ipython",
    "version": 3
   },
   "file_extension": ".py",
   "mimetype": "text/x-python",
   "name": "python",
   "nbconvert_exporter": "python",
   "pygments_lexer": "ipython3",
   "version": "3.9.4"
  }
 },
 "nbformat": 4,
 "nbformat_minor": 5
}